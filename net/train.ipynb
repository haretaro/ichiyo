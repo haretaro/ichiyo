{
 "cells": [
  {
   "cell_type": "code",
   "execution_count": null,
   "metadata": {
    "collapsed": false
   },
   "outputs": [],
   "source": [
    "%matplotlib inline\n",
    "import chainer\n",
    "from chainer import optimizers, cuda, serializers\n",
    "import chainer.functions as F\n",
    "import numpy as np\n",
    "import csv\n",
    "import math\n",
    "import matplotlib.pyplot as plt\n",
    "import time\n",
    "import datetime\n",
    "from net import Net, MLP"
   ]
  },
  {
   "cell_type": "code",
   "execution_count": null,
   "metadata": {
    "collapsed": true
   },
   "outputs": [],
   "source": [
    "n_epoch = 4000000 #エポック\n",
    "batchsize = 5000 #バッチサイズ\n",
    "printout_interval = 100000 #何エポック毎に誤差をプリントアウトするか\n",
    "\n",
    "bprop_len = 100 #何回でバックプロパゲーションを打ち切るか(trancate)\n",
    "n_units = 20 #中間層のユニット数\n",
    "grad_clip = 5 #誤差関数の絶対値をこの値に制限する\n",
    "use_gpu = True #GPUを使うかどうか"
   ]
  },
  {
   "cell_type": "code",
   "execution_count": null,
   "metadata": {
    "collapsed": false
   },
   "outputs": [],
   "source": [
    "xp = cuda.cupy if use_gpu is True else np"
   ]
  },
  {
   "cell_type": "code",
   "execution_count": null,
   "metadata": {
    "collapsed": false
   },
   "outputs": [],
   "source": [
    "raw_data = []\n",
    "f = open('../data/result_nikkei15min.csv','r')\n",
    "data = csv.reader(f, delimiter=',')\n",
    "for row in data:\n",
    "    if row[9] == \"\" or row[7] == \"\":\n",
    "        continue\n",
    "    raw_data.append([row[7], row[10], row[9]])#移動平均乖離率, tweet数, 天井度\n",
    "raw_data = np.asarray(raw_data, dtype=np.float32)\n",
    "raw_data = raw_data\n",
    "data_x = raw_data[:, 0:2]\n",
    "data_y = raw_data[:, 2:3]\n",
    "train_data_x, test_data_x = data_x[:int(len(data_x) * 0.8)], data_x[-int(len(data_x) * 0.2):]\n",
    "train_data_y, test_data_y = data_y[:int(len(data_y) * 0.8)], data_y[-int(len(data_y) * 0.2):]\n",
    "\n",
    "plt.plot(train_data_x[:500])\n",
    "plt.plot(train_data_y[:500])\n",
    "\n",
    "print(train_data_x.shape)\n",
    "print(train_data_y.shape)\n",
    "print(test_data_x.shape)\n",
    "print(test_data_y.shape)"
   ]
  },
  {
   "cell_type": "code",
   "execution_count": null,
   "metadata": {
    "collapsed": false
   },
   "outputs": [],
   "source": [
    "plt.plot(test_data_x)\n",
    "plt.plot(test_data_y)"
   ]
  },
  {
   "cell_type": "code",
   "execution_count": null,
   "metadata": {
    "collapsed": false
   },
   "outputs": [],
   "source": [
    "#ネットワークを試す関数\n",
    "def evaluate(model, x, y):\n",
    "    evaluator = model.copy()\n",
    "    evaluator.reset_state()\n",
    "    out = evaluator.predict(x)\n",
    "    error = F.mean_squared_error(out, y)\n",
    "    return chainer.cuda.to_cpu(out.data), error.data"
   ]
  },
  {
   "cell_type": "code",
   "execution_count": null,
   "metadata": {
    "collapsed": false
   },
   "outputs": [],
   "source": [
    "model = Net(2, n_units, 1)#入力の次元数, 中間層の次元数\n",
    "if use_gpu is True:\n",
    "    model.to_gpu()\n",
    "optimizer = optimizers.Adam()\n",
    "optimizer.setup(model)\n",
    "optimizer.add_hook(chainer.optimizer.GradientClipping(grad_clip))\n",
    "loss = []\n",
    "test_loss = []\n",
    "length = len(train_data_x)\n",
    "jump = length // batchsize\n",
    "batch_idxs = list(range(batchsize))\n",
    "accum_loss = 0\n",
    "epoch = 0\n",
    "loss_data = 0\n",
    "x_cache = []\n",
    "y_cache = []\n",
    "x_chainer_variable = chainer.Variable(xp.asarray(train_data_x, dtype=np.float32))\n",
    "y_chainer_variable = chainer.Variable(xp.asarray(train_data_y, dtype=np.float32))\n",
    "test_data_x_chainer_variable = chainer.Variable(xp.asarray(test_data_x, dtype=np.float32))\n",
    "test_data_y_chainer_variable = chainer.Variable(xp.asarray(test_data_y, dtype=np.float32))\n",
    "prev_time = time.time()\n",
    "for i in range(jump * n_epoch):\n",
    "    if len(x_cache) <= i % jump:\n",
    "        x_cache.append( chainer.Variable(xp.asarray([train_data_x[(jump * j + i) % length] for j in batch_idxs])))\n",
    "        y_cache.append( chainer.Variable(xp.asarray([train_data_y[(jump * j + i) % length] for j in batch_idxs])))\n",
    "    x = x_cache[i % jump]\n",
    "    y = y_cache[i % jump]\n",
    "    #x = chainer.Variable(xp.asarray([[train_data_x[(jump * j + i) % length]] for j in batch_idxs]))\n",
    "    #y = chainer.Variable(xp.asarray([[train_data_y[(jump * j + i) % length]] for j in batch_idxs]))\n",
    "    loss_i = model(x,y)\n",
    "    accum_loss += loss_i\n",
    "    loss_data += accum_loss.data\n",
    "        \n",
    "    if (i+1) % jump == 0:\n",
    "        epoch += 1\n",
    "        if epoch % printout_interval == 0:\n",
    "            now = time.time()\n",
    "            elapsed_time = now - prev_time\n",
    "            prev_time = now\n",
    "            speed = printout_interval / elapsed_time\n",
    "            eta = datetime.timedelta(seconds = (n_epoch - epoch) / speed)\n",
    "            eta = datetime.timedelta(seconds = eta.seconds)\n",
    "            print('epoch {0}, error {1}, {2:.2f} epoch/s, eta {3}'.format(epoch, loss_data * len(x) / length, speed, eta))\n",
    "        loss.append(evaluate(model, x_chainer_variable, y_chainer_variable)[1])\n",
    "        test_loss.append(evaluate(model, test_data_x_chainer_variable, test_data_y_chainer_variable)[1])\n",
    "        loss_data = 0\n",
    "        model.reset_state()\n",
    "        \n",
    "    \n",
    "    if (i+1) % bprop_len == 0:\n",
    "        model.zerograds()\n",
    "        accum_loss.backward()\n",
    "        accum_loss.unchain_backward()\n",
    "        accum_loss = 0\n",
    "        optimizer.update()"
   ]
  },
  {
   "cell_type": "code",
   "execution_count": null,
   "metadata": {
    "collapsed": true
   },
   "outputs": [],
   "source": [
    "#モデルを保存\n",
    "serializers.save_npz('my.model', model)"
   ]
  },
  {
   "cell_type": "code",
   "execution_count": null,
   "metadata": {
    "collapsed": false
   },
   "outputs": [],
   "source": [
    "plt.plot(loss[0:], label='error')\n",
    "plt.plot(test_loss[0:], label='test_error')\n",
    "plt.legend()"
   ]
  },
  {
   "cell_type": "code",
   "execution_count": null,
   "metadata": {
    "collapsed": false
   },
   "outputs": [],
   "source": [
    "plt.plot(loss)\n",
    "plt.plot(test_loss)\n",
    "plt.yscale('log')"
   ]
  },
  {
   "cell_type": "code",
   "execution_count": null,
   "metadata": {
    "collapsed": false
   },
   "outputs": [],
   "source": [
    "output, error = evaluate(model, x_chainer_variable, y_chainer_variable)\n",
    "\n",
    "print(error)"
   ]
  },
  {
   "cell_type": "code",
   "execution_count": null,
   "metadata": {
    "collapsed": false
   },
   "outputs": [],
   "source": [
    "plt.plot(output)\n",
    "plt.plot(train_data_x[:, 0])\n",
    "print(len(output))\n",
    "print(train_data_x.shape)"
   ]
  },
  {
   "cell_type": "code",
   "execution_count": null,
   "metadata": {
    "collapsed": false
   },
   "outputs": [],
   "source": [
    "output, error = evaluate(model, test_data_x_chainer_variable, test_data_y_chainer_variable)\n",
    "print('test error = {}'.format(error))"
   ]
  },
  {
   "cell_type": "code",
   "execution_count": null,
   "metadata": {
    "collapsed": false
   },
   "outputs": [],
   "source": [
    "plt.plot(output[300:600, 0], label='prediction')\n",
    "plt.plot(test_data_y[300:600, 0], label='target')\n",
    "plt.legend()"
   ]
  },
  {
   "cell_type": "code",
   "execution_count": null,
   "metadata": {
    "collapsed": true
   },
   "outputs": [],
   "source": []
  },
  {
   "cell_type": "code",
   "execution_count": null,
   "metadata": {
    "collapsed": true
   },
   "outputs": [],
   "source": []
  }
 ],
 "metadata": {
  "kernelspec": {
   "display_name": "Python 3",
   "language": "python",
   "name": "python3"
  },
  "language_info": {
   "codemirror_mode": {
    "name": "ipython",
    "version": 3
   },
   "file_extension": ".py",
   "mimetype": "text/x-python",
   "name": "python",
   "nbconvert_exporter": "python",
   "pygments_lexer": "ipython3",
   "version": "3.5.2"
  }
 },
 "nbformat": 4,
 "nbformat_minor": 0
}
