{
 "cells": [
  {
   "cell_type": "code",
   "execution_count": 1,
   "metadata": {
    "collapsed": false
   },
   "outputs": [],
   "source": [
    "%matplotlib inline\n",
    "import chainer\n",
    "from chainer import optimizers, cuda\n",
    "import numpy as np\n",
    "import csv\n",
    "import math\n",
    "import matplotlib.pyplot as plt\n",
    "from net import Net,MoreLayersNet"
   ]
  },
  {
   "cell_type": "code",
   "execution_count": 2,
   "metadata": {
    "collapsed": true
   },
   "outputs": [],
   "source": [
    "n_epoch = 1000000 #エポック\n",
    "batchsize = 178 #バッチサイズ\n",
    "bprop_len = 200 #何回でバックプロパゲーションを打ち切るか(truncate)\n",
    "n_units = 2000 #中間層のユニット数\n",
    "grad_clip = 5 #誤差関数の絶対値をこの値に制限する\n",
    "use_gpu = True #GPUを使うかどうか"
   ]
  },
  {
   "cell_type": "code",
   "execution_count": 3,
   "metadata": {
    "collapsed": true
   },
   "outputs": [],
   "source": [
    "xp = cuda.cupy if use_gpu is True else np"
   ]
  },
  {
   "cell_type": "code",
   "execution_count": 4,
   "metadata": {
    "collapsed": false
   },
   "outputs": [
    {
     "data": {
      "text/plain": [
       "[<matplotlib.lines.Line2D at 0x7f85ec460630>]"
      ]
     },
     "execution_count": 4,
     "metadata": {},
     "output_type": "execute_result"
    },
    {
     "data": {
      "image/png": "[encoded data removed]",
      "text/plain": [
       "<matplotlib.figure.Figure at 0x7f85ec460748>"
      ]
     },
     "metadata": {},
     "output_type": "display_data"
    }
   ],
   "source": [
    "train_data_x = []\n",
    "train_data_y = []\n",
    "f = open('30minutes.csv','r')\n",
    "data = csv.reader(f, delimiter=',')\n",
    "for row in data:\n",
    "    train_data_x.append(row[7])\n",
    "    train_data_y.append(row[7])\n",
    "raw_data = np.asarray(train_data_x, dtype=np.float32)\n",
    "raw_data = np.asarray([math.sin(0.1 * x) for x in range(10000)], dtype = np.float32)\n",
    "for i in range(200):\n",
    "    for j in range(len(raw_data)):\n",
    "        raw_data[j] = raw_data[j] + math.sin(i * 0.01 * j)\n",
    "train_data_x = raw_data[:-1]\n",
    "train_data_y = raw_data[1:]\n",
    "plt.plot(train_data_x[:2000])\n",
    "plt.plot(train_data_y[:2000])"
   ]
  },
  {
   "cell_type": "code",
   "execution_count": 5,
   "metadata": {
    "collapsed": true
   },
   "outputs": [],
   "source": [
    "#ネットワークを試す関数\n",
    "def evaluate(model,num,origin=0):\n",
    "    t = chainer.Variable(xp.array([[origin]],dtype=np.float32))\n",
    "    output = []\n",
    "    evaluator = model.copy()\n",
    "    evaluator.reset_state()\n",
    "    for i in range(num):\n",
    "        t = evaluator.predict(t)\n",
    "        output.append(t.data[0])\n",
    "    return output"
   ]
  },
  {
   "cell_type": "code",
   "execution_count": 6,
   "metadata": {
    "collapsed": false
   },
   "outputs": [
    {
     "name": "stdout",
     "output_type": "stream",
     "text": [
      "epoch 100, error 72.99113464355469, alpha1.733334117999442e-05\n",
      "epoch 200, error 68.33264923095703, alpha2.320953855779739e-05\n",
      "epoch 300, error 66.52747344970703, alpha2.8233395349021975e-05\n",
      "epoch 400, error 64.81004333496094, alpha3.242108946391083e-05\n",
      "epoch 500, error 62.91938400268555, alpha3.603229161572538e-05\n",
      "epoch 600, error 62.8537712097168, alpha3.9226406608642874e-05\n",
      "epoch 700, error 61.285911560058594, alpha4.21005484946398e-05\n",
      "epoch 800, error 59.43280029296875, alpha4.471849931246902e-05\n",
      "epoch 900, error 63.488990783691406, alpha4.712486915192238e-05\n",
      "epoch 1000, error 55.4473876953125, alpha4.9352375539769744e-05\n",
      "epoch 1100, error 47.411983489990234, alpha5.1425906712488785e-05\n",
      "epoch 1200, error 46.94205093383789, alpha5.336495129470248e-05\n",
      "epoch 1300, error 43.63215255737305, alpha5.518513279824824e-05\n",
      "epoch 1400, error 45.28757858276367, alpha5.689922245164233e-05\n",
      "epoch 1500, error 39.10532760620117, alpha5.851783243061366e-05\n",
      "epoch 1600, error 37.8724365234375, alpha6.004990500898484e-05\n",
      "epoch 1700, error 36.237953186035156, alpha6.150306677018725e-05\n",
      "epoch 1800, error 34.408931732177734, alpha6.288389089766498e-05\n",
      "epoch 1900, error 33.078330993652344, alpha6.419809521445172e-05\n",
      "epoch 2000, error 31.292829513549805, alpha6.54506942907341e-05\n",
      "epoch 2100, error 29.5068416595459, alpha6.664611805741767e-05\n",
      "epoch 2200, error 28.51610565185547, alpha6.778830556140082e-05\n",
      "epoch 2300, error 27.360261917114258, alpha6.888077997864789e-05\n",
      "epoch 2400, error 26.536840438842773, alpha6.992670929450431e-05\n",
      "epoch 2500, error 25.238916397094727, alpha7.092895588172353e-05\n",
      "epoch 2600, error 24.146636962890625, alpha7.189011737761452e-05\n",
      "epoch 2700, error 23.190414428710938, alpha7.281256066923542e-05\n",
      "epoch 2800, error 22.132320404052734, alpha7.369845036586525e-05\n",
      "epoch 2900, error 21.015960693359375, alpha7.4549772822126e-05\n",
      "epoch 3000, error 20.106361389160156, alpha7.536835654005218e-05\n",
      "epoch 3100, error 19.24468994140625, alpha7.61558896014377e-05\n",
      "epoch 3200, error 19.200746536254883, alpha7.69139346471562e-05\n",
      "epoch 3300, error 17.78204345703125, alpha7.764394181670713e-05\n",
      "epoch 3400, error 17.092811584472656, alpha7.834725998103624e-05\n",
      "epoch 3500, error 16.338600158691406, alpha7.902514653895774e-05\n",
      "epoch 3600, error 15.85632038116455, alpha7.967877599806557e-05\n",
      "epoch 3700, error 14.962183952331543, alpha8.030924752175652e-05\n",
      "epoch 3800, error 14.50865364074707, alpha8.091759159258517e-05\n",
      "epoch 3900, error 13.640687942504883, alpha8.150477591688928e-05\n",
      "epoch 4000, error 12.987807273864746, alpha8.20717106751423e-05\n",
      "epoch 4100, error 12.421859741210938, alpha8.261925320580073e-05\n",
      "epoch 4200, error 11.930932998657227, alpha8.314821219673662e-05\n",
      "epoch 4300, error 11.213886260986328, alpha8.365935144708016e-05\n",
      "epoch 4400, error 10.617769241333008, alpha8.415339325296805e-05\n",
      "epoch 4500, error 10.033001899719238, alpha8.463102146293578e-05\n",
      "epoch 4600, error 10.477835655212402, alpha8.509288424220657e-05\n",
      "epoch 4700, error 24.252614974975586, alpha8.55395965796887e-05\n",
      "epoch 4800, error 9.61523151397705, alpha8.597174256690715e-05\n",
      "epoch 4900, error 8.69042682647705, alpha8.638987747421601e-05\n",
      "epoch 5000, error 10.20077133178711, alpha8.679452964634302e-05\n",
      "epoch 5100, error 8.161275863647461, alpha8.718620223651077e-05\n",
      "epoch 5200, error 7.709857940673828, alpha8.756537479597707e-05\n",
      "epoch 5300, error 7.285231590270996, alpha8.793250473377725e-05\n",
      "epoch 5400, error 6.870274543762207, alpha8.828802865967772e-05\n",
      "epoch 5500, error 6.454026699066162, alpha8.863236362181948e-05\n",
      "epoch 5600, error 6.023621082305908, alpha8.896590824920404e-05\n",
      "epoch 5700, error 5.634640216827393, alpha8.928904380802401e-05\n",
      "epoch 5800, error 5.330810070037842, alpha8.960213517983803e-05\n",
      "epoch 5900, error 5.020297527313232, alpha8.990553176871496e-05\n",
      "epoch 6000, error 4.688317775726318, alpha9.019956834370708e-05\n",
      "epoch 6100, error 4.5157904624938965, alpha9.048456582234029e-05\n",
      "epoch 6200, error 4.291722297668457, alpha9.076083200021879e-05\n",
      "epoch 6300, error 3.880744218826294, alpha9.10286622313219e-05\n",
      "epoch 6400, error 3.5784051418304443, alpha9.128834006311033e-05\n",
      "epoch 6500, error 4.218042850494385, alpha9.154013783015329e-05\n",
      "epoch 6600, error 9.656331062316895, alpha9.178431720962676e-05\n",
      "epoch 6700, error 3.083160638809204, alpha9.202112974171259e-05\n",
      "epoch 6800, error 2.8359076976776123, alpha9.225081731764326e-05\n",
      "epoch 6900, error 2.572032928466797, alpha9.247361263788206e-05\n",
      "epoch 7000, error 2.305983066558838, alpha9.268973964270127e-05\n",
      "epoch 7100, error 2.1134417057037354, alpha9.289941391721763e-05\n",
      "epoch 7200, error 2.002772331237793, alpha9.31028430727612e-05\n",
      "epoch 7300, error 1.8351465463638306, alpha9.330022710629052e-05\n",
      "epoch 7400, error 1.8342612981796265, alpha9.3491758739419e-05\n",
      "epoch 7500, error 1.6761623620986938, alpha9.367762373848475e-05\n",
      "epoch 7600, error 27.583213806152344, alpha9.385800121697656e-05\n",
      "epoch 7700, error 2.8334174156188965, alpha9.403306392151971e-05\n",
      "epoch 7800, error 1.8651665449142456, alpha9.420297850252794e-05\n",
      "epoch 7900, error 1.7265921831130981, alpha9.436790577053888e-05\n",
      "epoch 8000, error 1.3590055704116821, alpha9.452800093916941e-05\n",
      "epoch 8100, error 1.2127553224563599, alpha9.468341385555466e-05\n",
      "epoch 8200, error 1.0806080102920532, alpha9.483428921906721e-05\n",
      "epoch 8300, error 0.9727920889854431, alpha9.498076678905306e-05\n",
      "epoch 8400, error 0.8750057816505432, alpha9.512298158226466e-05\n",
      "epoch 8500, error 0.7806817889213562, alpha9.526106406062202e-05\n",
      "epoch 8600, error 0.6972512602806091, alpha9.539514030988526e-05\n",
      "epoch 8700, error 0.644405722618103, alpha9.552533220978105e-05\n",
      "epoch 8800, error 0.6080688238143921, alpha9.56517575960859e-05\n",
      "epoch 8900, error 0.5478024482727051, alpha9.57745304151337e-05\n",
      "epoch 9000, error 0.485734224319458, alpha9.589376087118272e-05\n",
      "epoch 9100, error 0.424893856048584, alpha9.600955556704722e-05\n",
      "epoch 9200, error 0.7003992199897766, alpha9.612201763837074e-05\n",
      "epoch 9300, error 0.7114348411560059, alpha9.623124688189335e-05\n",
      "epoch 9400, error 0.5928433537483215, alpha9.633733987804175e-05\n",
      "epoch 9500, error 0.5308512449264526, alpha9.644039010814852e-05\n",
      "epoch 9600, error 0.3887022137641907, alpha9.654048806658856e-05\n",
      "epoch 9700, error 0.3900142312049866, alpha9.663772136810058e-05\n",
      "epoch 9800, error 0.39920365810394287, alpha9.673217485054554e-05\n",
      "epoch 9900, error 0.297341525554657, alpha9.682393067333806e-05\n",
      "epoch 10000, error 0.334035724401474, alpha9.691306841177128e-05\n",
      "epoch 10100, error 0.3770962655544281, alpha9.699966514744354e-05\n",
      "epoch 10200, error 0.1967639923095703, alpha9.708379555498118e-05\n",
      "epoch 10300, error 0.3021509349346161, alpha9.716553198524092e-05\n",
      "epoch 10400, error 0.1748761534690857, alpha9.72449445451643e-05\n",
      "epoch 10500, error 0.1887541264295578, alpha9.73221011744462e-05\n",
      "epoch 10600, error 0.11226863414049149, alpha9.739706771917012e-05\n",
      "epoch 10700, error 0.26834169030189514, alpha9.74699080025545e-05\n",
      "epoch 10800, error 0.3561824560165405, alpha9.754068389294548e-05\n",
      "epoch 10900, error 0.0997733622789383, alpha9.760945536918449e-05\n",
      "epoch 11000, error 0.060947537422180176, alpha9.767628058347137e-05\n",
      "epoch 11100, error 0.0493905171751976, alpha9.774121592183756e-05\n",
      "epoch 11200, error 0.03971020132303238, alpha9.78043160623371e-05\n",
      "epoch 11300, error 0.03632410615682602, alpha9.786563403105781e-05\n",
      "epoch 11400, error 0.036896076053380966, alpha9.792522125604924e-05\n",
      "epoch 11500, error 0.02807917818427086, alpha9.798312761925894e-05\n",
      "epoch 11600, error 0.024055248126387596, alpha9.803940150656388e-05\n",
      "epoch 11700, error 0.028166931122541428, alpha9.809408985597909e-05\n",
      "epoch 11800, error 0.021506289020180702, alpha9.814723820412176e-05\n",
      "epoch 11900, error 0.01520268339663744, alpha9.81988907310045e-05\n"
     ]
    },
    {
     "ename": "KeyboardInterrupt",
     "evalue": "",
     "output_type": "error",
     "traceback": [
      "\u001b[1;31m---------------------------------------------------------------------------\u001b[0m",
      "\u001b[1;31mKeyboardInterrupt\u001b[0m                         Traceback (most recent call last)",
      "\u001b[1;32m<ipython-input-6-b43e6570c573>\u001b[0m in \u001b[0;36m<module>\u001b[1;34m()\u001b[0m\n\u001b[0;32m     31\u001b[0m     \u001b[1;32mif\u001b[0m \u001b[1;33m(\u001b[0m\u001b[0mi\u001b[0m\u001b[1;33m+\u001b[0m\u001b[1;36m1\u001b[0m\u001b[1;33m)\u001b[0m \u001b[1;33m%\u001b[0m \u001b[0mbprop_len\u001b[0m \u001b[1;33m==\u001b[0m \u001b[1;36m0\u001b[0m\u001b[1;33m:\u001b[0m\u001b[1;33m\u001b[0m\u001b[0m\n\u001b[0;32m     32\u001b[0m         \u001b[0mmodel\u001b[0m\u001b[1;33m.\u001b[0m\u001b[0mzerograds\u001b[0m\u001b[1;33m(\u001b[0m\u001b[1;33m)\u001b[0m\u001b[1;33m\u001b[0m\u001b[0m\n\u001b[1;32m---> 33\u001b[1;33m         \u001b[0maccum_loss\u001b[0m\u001b[1;33m.\u001b[0m\u001b[0mbackward\u001b[0m\u001b[1;33m(\u001b[0m\u001b[1;33m)\u001b[0m\u001b[1;33m\u001b[0m\u001b[0m\n\u001b[0m\u001b[0;32m     34\u001b[0m         \u001b[0maccum_loss\u001b[0m\u001b[1;33m.\u001b[0m\u001b[0munchain_backward\u001b[0m\u001b[1;33m(\u001b[0m\u001b[1;33m)\u001b[0m\u001b[1;33m\u001b[0m\u001b[0m\n\u001b[0;32m     35\u001b[0m         \u001b[0maccum_loss\u001b[0m \u001b[1;33m=\u001b[0m \u001b[1;36m0\u001b[0m\u001b[1;33m\u001b[0m\u001b[0m\n",
      "\u001b[1;32m/usr/local/lib/python3.4/dist-packages/chainer/variable.py\u001b[0m in \u001b[0;36mbackward\u001b[1;34m(self, retain_grad)\u001b[0m\n\u001b[0;32m    347\u001b[0m                 \u001b[0mhook\u001b[0m\u001b[1;33m.\u001b[0m\u001b[0mbackward_preprocess\u001b[0m\u001b[1;33m(\u001b[0m\u001b[0mfunc\u001b[0m\u001b[1;33m,\u001b[0m \u001b[0min_data\u001b[0m\u001b[1;33m,\u001b[0m \u001b[0mout_grad\u001b[0m\u001b[1;33m)\u001b[0m\u001b[1;33m\u001b[0m\u001b[0m\n\u001b[0;32m    348\u001b[0m             \u001b[1;32mwith\u001b[0m \u001b[0mcuda\u001b[0m\u001b[1;33m.\u001b[0m\u001b[0mget_device\u001b[0m\u001b[1;33m(\u001b[0m\u001b[1;33m*\u001b[0m\u001b[1;33m(\u001b[0m\u001b[0min_data\u001b[0m \u001b[1;33m+\u001b[0m \u001b[0mout_grad\u001b[0m\u001b[1;33m)\u001b[0m\u001b[1;33m)\u001b[0m\u001b[1;33m:\u001b[0m\u001b[1;33m\u001b[0m\u001b[0m\n\u001b[1;32m--> 349\u001b[1;33m                 \u001b[0mgxs\u001b[0m \u001b[1;33m=\u001b[0m \u001b[0mfunc\u001b[0m\u001b[1;33m.\u001b[0m\u001b[0mbackward\u001b[0m\u001b[1;33m(\u001b[0m\u001b[0min_data\u001b[0m\u001b[1;33m,\u001b[0m \u001b[0mout_grad\u001b[0m\u001b[1;33m)\u001b[0m\u001b[1;33m\u001b[0m\u001b[0m\n\u001b[0m\u001b[0;32m    350\u001b[0m             \u001b[1;32massert\u001b[0m \u001b[0mlen\u001b[0m\u001b[1;33m(\u001b[0m\u001b[0mgxs\u001b[0m\u001b[1;33m)\u001b[0m \u001b[1;33m==\u001b[0m \u001b[0mlen\u001b[0m\u001b[1;33m(\u001b[0m\u001b[0min_data\u001b[0m\u001b[1;33m)\u001b[0m\u001b[1;33m\u001b[0m\u001b[0m\n\u001b[0;32m    351\u001b[0m             \u001b[1;32mfor\u001b[0m \u001b[0mhook\u001b[0m \u001b[1;32min\u001b[0m \u001b[0msix\u001b[0m\u001b[1;33m.\u001b[0m\u001b[0mitervalues\u001b[0m\u001b[1;33m(\u001b[0m\u001b[0mhooks\u001b[0m\u001b[1;33m)\u001b[0m\u001b[1;33m:\u001b[0m\u001b[1;33m\u001b[0m\u001b[0m\n",
      "\u001b[1;32m/usr/local/lib/python3.4/dist-packages/chainer/function.py\u001b[0m in \u001b[0;36mbackward\u001b[1;34m(self, inputs, grad_outputs)\u001b[0m\n\u001b[0;32m    288\u001b[0m         \"\"\"\n\u001b[0;32m    289\u001b[0m         \u001b[1;32mif\u001b[0m \u001b[0many\u001b[0m\u001b[1;33m(\u001b[0m\u001b[0misinstance\u001b[0m\u001b[1;33m(\u001b[0m\u001b[0mx\u001b[0m\u001b[1;33m,\u001b[0m \u001b[0mcuda\u001b[0m\u001b[1;33m.\u001b[0m\u001b[0mndarray\u001b[0m\u001b[1;33m)\u001b[0m \u001b[1;32mfor\u001b[0m \u001b[0mx\u001b[0m \u001b[1;32min\u001b[0m \u001b[0minputs\u001b[0m \u001b[1;33m+\u001b[0m \u001b[0mgrad_outputs\u001b[0m\u001b[1;33m)\u001b[0m\u001b[1;33m:\u001b[0m\u001b[1;33m\u001b[0m\u001b[0m\n\u001b[1;32m--> 290\u001b[1;33m             \u001b[1;32mreturn\u001b[0m \u001b[0mself\u001b[0m\u001b[1;33m.\u001b[0m\u001b[0mbackward_gpu\u001b[0m\u001b[1;33m(\u001b[0m\u001b[0minputs\u001b[0m\u001b[1;33m,\u001b[0m \u001b[0mgrad_outputs\u001b[0m\u001b[1;33m)\u001b[0m\u001b[1;33m\u001b[0m\u001b[0m\n\u001b[0m\u001b[0;32m    291\u001b[0m         \u001b[1;32melse\u001b[0m\u001b[1;33m:\u001b[0m\u001b[1;33m\u001b[0m\u001b[0m\n\u001b[0;32m    292\u001b[0m             \u001b[1;32mreturn\u001b[0m \u001b[0mself\u001b[0m\u001b[1;33m.\u001b[0m\u001b[0mbackward_cpu\u001b[0m\u001b[1;33m(\u001b[0m\u001b[0minputs\u001b[0m\u001b[1;33m,\u001b[0m \u001b[0mgrad_outputs\u001b[0m\u001b[1;33m)\u001b[0m\u001b[1;33m\u001b[0m\u001b[0m\n",
      "\u001b[1;32m/usr/local/lib/python3.4/dist-packages/chainer/functions/activation/sigmoid.py\u001b[0m in \u001b[0;36mbackward_gpu\u001b[1;34m(self, x, gy)\u001b[0m\n\u001b[0;32m     55\u001b[0m             \u001b[0mhandle\u001b[0m \u001b[1;33m=\u001b[0m \u001b[0mcudnn\u001b[0m\u001b[1;33m.\u001b[0m\u001b[0mget_handle\u001b[0m\u001b[1;33m(\u001b[0m\u001b[1;33m)\u001b[0m\u001b[1;33m\u001b[0m\u001b[0m\n\u001b[0;32m     56\u001b[0m             \u001b[0my_mat\u001b[0m \u001b[1;33m=\u001b[0m \u001b[0mself\u001b[0m\u001b[1;33m.\u001b[0m\u001b[0my\u001b[0m\u001b[1;33m.\u001b[0m\u001b[0mreshape\u001b[0m\u001b[1;33m(\u001b[0m\u001b[0mself\u001b[0m\u001b[1;33m.\u001b[0m\u001b[0my\u001b[0m\u001b[1;33m.\u001b[0m\u001b[0mshape\u001b[0m\u001b[1;33m[\u001b[0m\u001b[1;36m0\u001b[0m\u001b[1;33m]\u001b[0m\u001b[1;33m,\u001b[0m \u001b[1;33m-\u001b[0m\u001b[1;36m1\u001b[0m\u001b[1;33m,\u001b[0m \u001b[1;36m1\u001b[0m\u001b[1;33m,\u001b[0m \u001b[1;36m1\u001b[0m\u001b[1;33m)\u001b[0m\u001b[1;33m\u001b[0m\u001b[0m\n\u001b[1;32m---> 57\u001b[1;33m             \u001b[0mdesc\u001b[0m \u001b[1;33m=\u001b[0m \u001b[0mcudnn\u001b[0m\u001b[1;33m.\u001b[0m\u001b[0mcreate_tensor_descriptor\u001b[0m\u001b[1;33m(\u001b[0m\u001b[0my_mat\u001b[0m\u001b[1;33m)\u001b[0m\u001b[1;33m\u001b[0m\u001b[0m\n\u001b[0m\u001b[0;32m     58\u001b[0m             libcudnn.activationBackward(\n\u001b[0;32m     59\u001b[0m                 \u001b[0mhandle\u001b[0m\u001b[1;33m,\u001b[0m \u001b[0m_mode\u001b[0m\u001b[1;33m,\u001b[0m \u001b[0mone\u001b[0m\u001b[1;33m.\u001b[0m\u001b[0mdata\u001b[0m\u001b[1;33m,\u001b[0m \u001b[0mdesc\u001b[0m\u001b[1;33m.\u001b[0m\u001b[0mvalue\u001b[0m\u001b[1;33m,\u001b[0m \u001b[0my_mat\u001b[0m\u001b[1;33m.\u001b[0m\u001b[0mdata\u001b[0m\u001b[1;33m.\u001b[0m\u001b[0mptr\u001b[0m\u001b[1;33m,\u001b[0m\u001b[1;33m\u001b[0m\u001b[0m\n",
      "\u001b[1;32m/usr/local/lib/python3.4/dist-packages/cupy/cudnn.py\u001b[0m in \u001b[0;36mcreate_tensor_descriptor\u001b[1;34m(arr, format)\u001b[0m\n\u001b[0;32m     63\u001b[0m     \u001b[1;32mif\u001b[0m \u001b[0marr\u001b[0m\u001b[1;33m.\u001b[0m\u001b[0mndim\u001b[0m \u001b[1;33m!=\u001b[0m \u001b[1;36m4\u001b[0m\u001b[1;33m:\u001b[0m\u001b[1;33m\u001b[0m\u001b[0m\n\u001b[0;32m     64\u001b[0m         \u001b[1;32mraise\u001b[0m \u001b[0mValueError\u001b[0m\u001b[1;33m(\u001b[0m\u001b[1;34m'cupy.cudnn supports 4-dimensional arrays only'\u001b[0m\u001b[1;33m)\u001b[0m\u001b[1;33m\u001b[0m\u001b[0m\n\u001b[1;32m---> 65\u001b[1;33m     \u001b[1;32mif\u001b[0m \u001b[1;32mnot\u001b[0m \u001b[0marr\u001b[0m\u001b[1;33m.\u001b[0m\u001b[0mflags\u001b[0m\u001b[1;33m.\u001b[0m\u001b[0mc_contiguous\u001b[0m\u001b[1;33m:\u001b[0m\u001b[1;33m\u001b[0m\u001b[0m\n\u001b[0m\u001b[0;32m     66\u001b[0m         \u001b[1;32mraise\u001b[0m \u001b[0mValueError\u001b[0m\u001b[1;33m(\u001b[0m\u001b[1;34m'cupy.cudnn supports c-contiguous arrays only'\u001b[0m\u001b[1;33m)\u001b[0m\u001b[1;33m\u001b[0m\u001b[0m\n\u001b[0;32m     67\u001b[0m     \u001b[0mdata_type\u001b[0m \u001b[1;33m=\u001b[0m \u001b[0mget_data_type\u001b[0m\u001b[1;33m(\u001b[0m\u001b[0marr\u001b[0m\u001b[1;33m.\u001b[0m\u001b[0mdtype\u001b[0m\u001b[1;33m)\u001b[0m\u001b[1;33m\u001b[0m\u001b[0m\n",
      "\u001b[1;31mKeyboardInterrupt\u001b[0m: "
     ]
    }
   ],
   "source": [
    "model = MoreLayersNet(1, n_units)#入力の次元数, 中間層の次元数\n",
    "if use_gpu is True:\n",
    "    model.to_gpu()\n",
    "optimizer = optimizers.Adam(alpha=0.0001)\n",
    "optimizer.setup(model)\n",
    "optimizer.add_hook(chainer.optimizer.GradientClipping(grad_clip))\n",
    "loss = []\n",
    "length = len(train_data_x)\n",
    "jump = length // batchsize\n",
    "batch_idxs = list(range(batchsize))\n",
    "accum_loss = 0\n",
    "epoch = 0\n",
    "loss_data = 0\n",
    "for i in range(jump * n_epoch):\n",
    "    x = chainer.Variable(xp.asarray([[train_data_x[(jump * j + i) % length]] for j in batch_idxs]))\n",
    "    y = chainer.Variable(xp.asarray([[train_data_y[(jump * j + i) % length]] for j in batch_idxs]))\n",
    "    loss_i = model(x,y)\n",
    "    accum_loss += loss_i\n",
    "    loss_data += accum_loss.data\n",
    "        \n",
    "    if (i+1) % jump == 0:\n",
    "        epoch += 1\n",
    "        if epoch % 100 == 0:\n",
    "            print('epoch {}, error {}, alpha{}'.format(epoch, loss_data / length, optimizer.lr))\n",
    "\n",
    "        loss.append(loss_data / length)\n",
    "        loss_data = 0\n",
    "        #model.reset_state()\n",
    "        \n",
    "    \n",
    "    if (i+1) % bprop_len == 0:\n",
    "        model.zerograds()\n",
    "        accum_loss.backward()\n",
    "        accum_loss.unchain_backward()\n",
    "        accum_loss = 0\n",
    "        optimizer.update()\n",
    "    "
   ]
  },
  {
   "cell_type": "code",
   "execution_count": 7,
   "metadata": {
    "collapsed": false
   },
   "outputs": [
    {
     "data": {
      "text/plain": [
       "[<matplotlib.lines.Line2D at 0x7f86112185c0>]"
      ]
     },
     "execution_count": 7,
     "metadata": {},
     "output_type": "execute_result"
    },
    {
     "data": {
      "image/png": "[encoded data removed]",
      "text/plain": [
       "<matplotlib.figure.Figure at 0x7f8611295668>"
      ]
     },
     "metadata": {},
     "output_type": "display_data"
    }
   ],
   "source": [
    "plt.plot(loss[1000:])"
   ]
  },
  {
   "cell_type": "code",
   "execution_count": 8,
   "metadata": {
    "collapsed": false
   },
   "outputs": [],
   "source": [
    "output = evaluate(model,2000,origin=0)"
   ]
  },
  {
   "cell_type": "code",
   "execution_count": 9,
   "metadata": {
    "collapsed": false
   },
   "outputs": [
    {
     "data": {
      "text/plain": [
       "[<matplotlib.lines.Line2D at 0x7f85e9a18b00>]"
      ]
     },
     "execution_count": 9,
     "metadata": {},
     "output_type": "execute_result"
    },
    {
     "data": {
      "image/png": "[encoded data removed]",
      "text/plain": [
       "<matplotlib.figure.Figure at 0x7f86111bdef0>"
      ]
     },
     "metadata": {},
     "output_type": "display_data"
    }
   ],
   "source": [
    "plt.plot(output[0:1000])"
   ]
  },
  {
   "cell_type": "code",
   "execution_count": null,
   "metadata": {
    "collapsed": true
   },
   "outputs": [],
   "source": []
  }
 ],
 "metadata": {
  "kernelspec": {
   "display_name": "Python 3",
   "language": "python",
   "name": "python3"
  },
  "language_info": {
   "codemirror_mode": {
    "name": "ipython",
    "version": 3
   },
   "file_extension": ".py",
   "mimetype": "text/x-python",
   "name": "python",
   "nbconvert_exporter": "python",
   "pygments_lexer": "ipython3",
   "version": "3.5.1"
  }
 },
 "nbformat": 4,
 "nbformat_minor": 0
}
