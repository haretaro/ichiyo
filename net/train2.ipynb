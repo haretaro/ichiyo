{
 "cells": [
  {
   "cell_type": "code",
   "execution_count": 112,
   "metadata": {
    "collapsed": false
   },
   "outputs": [],
   "source": [
    "#高値,安値,始値,終値 から 次の時刻の高値を予測する\n",
    "%matplotlib inline\n",
    "import chainer\n",
    "from chainer import optimizers, cuda\n",
    "import numpy as np\n",
    "import csv\n",
    "import math\n",
    "import matplotlib.pyplot as plt\n",
    "from net import Net,MoreLayersNet"
   ]
  },
  {
   "cell_type": "code",
   "execution_count": 113,
   "metadata": {
    "collapsed": true
   },
   "outputs": [],
   "source": [
    "n_epoch = 1000000 #エポック\n",
    "batchsize = 578 #バッチサイズ\n",
    "bprop_len = 10 #何回でバックプロパゲーションを打ち切るか(truncate)\n",
    "n_units = 2000 #中間層のユニット数\n",
    "grad_clip = 5 #誤差関数の絶対値をこの値に制限する\n",
    "use_gpu = True #GPUを使うかどうか"
   ]
  },
  {
   "cell_type": "code",
   "execution_count": 114,
   "metadata": {
    "collapsed": false
   },
   "outputs": [],
   "source": [
    "xp = cuda.cupy if use_gpu is True else np"
   ]
  },
  {
   "cell_type": "code",
   "execution_count": 115,
   "metadata": {
    "collapsed": false
   },
   "outputs": [
    {
     "data": {
      "text/plain": [
       "[<matplotlib.lines.Line2D at 0x7f8cebeeb400>]"
      ]
     },
     "execution_count": 115,
     "metadata": {},
     "output_type": "execute_result"
    },
    {
     "data": {
      "image/png": "[encoded data removed]",
      "text/plain": [
       "<matplotlib.figure.Figure at 0x7f8cec1e6860>"
      ]
     },
     "metadata": {},
     "output_type": "display_data"
    }
   ],
   "source": [
    "train_data_x = []\n",
    "train_data_y = []\n",
    "f = open('30minutes.csv','r')\n",
    "data = csv.reader(f, delimiter=',')\n",
    "for row in data:\n",
    "    train_data_x.append([row[i] for i in range(1,5)])\n",
    "    train_data_y.append([row[1]])\n",
    "train_data_x = np.asarray(train_data_x, dtype=np.float32)\n",
    "train_data_y = np.asarray(train_data_y, dtype=np.float32)\n",
    "train_data_x = train_data_x[1000:5000]\n",
    "train_data_y = train_data_y[1001:5001]\n",
    "plt.plot(train_data_x[:100][:,0])\n",
    "plt.plot(train_data_y[:100])"
   ]
  },
  {
   "cell_type": "code",
   "execution_count": 116,
   "metadata": {
    "collapsed": true
   },
   "outputs": [],
   "source": [
    "#ネットワークを試す関数\n",
    "def evaluate(model):\n",
    "    evaluator = model.copy()\n",
    "    evaluator.reset_state()\n",
    "    output = []\n",
    "    plt.plot(train_data_x)\n",
    "    for t in train_data_x:\n",
    "        t = chainer.Variable(xp.array([t],dtype=np.float32))\n",
    "        t = evaluator.predict(t)\n",
    "        output.append(t.data[0])\n",
    "    return output"
   ]
  },
  {
   "cell_type": "code",
   "execution_count": 117,
   "metadata": {
    "collapsed": false
   },
   "outputs": [
    {
     "name": "stdout",
     "output_type": "stream",
     "text": [
      "epoch 100, error 2543211.25, alpha0.001\n",
      "epoch 200, error 2518957.0, alpha0.001\n",
      "epoch 300, error 2464243.75, alpha0.001\n",
      "epoch 400, error 2506503.25, alpha0.001\n",
      "epoch 500, error 2497887.25, alpha0.001\n",
      "epoch 600, error 2460433.0, alpha0.001\n",
      "epoch 700, error 2473957.5, alpha0.001\n",
      "epoch 800, error 2527851.5, alpha0.001\n",
      "epoch 900, error 2481581.0, alpha0.001\n",
      "epoch 1000, error 2462618.0, alpha0.001\n",
      "epoch 1100, error 2497775.25, alpha0.001\n",
      "epoch 1200, error 2456746.0, alpha0.001\n",
      "epoch 1300, error 2426728.5, alpha0.001\n",
      "epoch 1400, error 2480889.75, alpha0.001\n",
      "epoch 1500, error 2494959.5, alpha0.001\n",
      "epoch 1600, error 2430097.0, alpha0.001\n",
      "epoch 1700, error 2460742.25, alpha0.001\n",
      "epoch 1800, error 2470161.0, alpha0.001\n",
      "epoch 1900, error 2422548.0, alpha0.001\n",
      "epoch 2000, error 2399634.25, alpha0.001\n",
      "epoch 2100, error 2480624.5, alpha0.001\n",
      "epoch 2200, error 2453897.5, alpha0.001\n",
      "epoch 2300, error 2397328.25, alpha0.001\n",
      "epoch 2400, error 2436661.75, alpha0.001\n",
      "epoch 2500, error 2426040.0, alpha0.001\n",
      "epoch 2600, error 2387246.0, alpha0.001\n",
      "epoch 2700, error 2398894.5, alpha0.001\n",
      "epoch 2800, error 2450487.25, alpha0.001\n",
      "epoch 2900, error 2403684.25, alpha0.001\n",
      "epoch 3000, error 2383917.75, alpha0.001\n",
      "epoch 3100, error 2417555.5, alpha0.001\n",
      "epoch 3200, error 2376375.5, alpha0.001\n",
      "epoch 3300, error 2346129.5, alpha0.001\n",
      "epoch 3400, error 2398770.25, alpha0.001\n",
      "epoch 3500, error 2412067.5, alpha0.001\n",
      "epoch 3600, error 2347841.0, alpha0.001\n",
      "epoch 3700, error 2377566.0, alpha0.001\n",
      "epoch 3800, error 2386455.5, alpha0.001\n",
      "epoch 3900, error 2339344.25, alpha0.001\n",
      "epoch 4000, error 2316524.5, alpha0.001\n",
      "epoch 4100, error 2395848.75, alpha0.001\n",
      "epoch 4200, error 2369380.0, alpha0.001\n",
      "epoch 4300, error 2313586.5, alpha0.001\n",
      "epoch 4400, error 2352056.5, alpha0.001\n",
      "epoch 4500, error 2341449.5, alpha0.001\n",
      "epoch 4600, error 2303179.5, alpha0.001\n",
      "epoch 4700, error 2314464.5, alpha0.001\n",
      "epoch 4800, error 2365000.0, alpha0.001\n",
      "epoch 4900, error 2318925.25, alpha0.001\n",
      "epoch 5000, error 2299392.0, alpha0.001\n",
      "epoch 5100, error 2332329.0, alpha0.001\n",
      "epoch 5200, error 2291794.25, alpha0.001\n",
      "epoch 5300, error 2261981.75, alpha0.001\n",
      "epoch 5400, error 2313588.75, alpha0.001\n",
      "epoch 5500, error 2326565.5, alpha0.001\n",
      "epoch 5600, error 2263423.25, alpha0.001\n",
      "epoch 5700, error 2292547.25, alpha0.001\n",
      "epoch 5800, error 2301199.75, alpha0.001\n",
      "epoch 5900, error 2254878.25, alpha0.001\n",
      "epoch 6000, error 2232391.25, alpha0.001\n",
      "epoch 6100, error 2310205.75, alpha0.001\n",
      "epoch 6200, error 2284183.5, alpha0.001\n",
      "epoch 6300, error 2229345.25, alpha0.001\n",
      "epoch 6400, error 2267074.0, alpha0.001\n",
      "epoch 6500, error 2256610.25, alpha0.001\n",
      "epoch 6600, error 2218990.25, alpha0.001\n",
      "epoch 6700, error 2230008.75, alpha0.001\n",
      "epoch 6800, error 2279563.0, alpha0.001\n",
      "epoch 6900, error 2234316.5, alpha0.001\n",
      "epoch 7000, error 2215097.25, alpha0.001\n",
      "epoch 7100, error 2247392.5, alpha0.001\n",
      "epoch 7200, error 2207576.0, alpha0.001\n",
      "epoch 7300, error 2178262.5, alpha0.001\n",
      "epoch 7400, error 2228878.5, alpha0.001\n",
      "epoch 7500, error 2241586.25, alpha0.001\n",
      "epoch 7600, error 2179594.25, alpha0.001\n",
      "epoch 7700, error 2208161.25, alpha0.001\n",
      "epoch 7800, error 2216622.0, alpha0.001\n",
      "epoch 7900, error 2171143.5, alpha0.001\n",
      "epoch 8000, error 2149033.0, alpha0.001\n",
      "epoch 8100, error 2225363.5, alpha0.001\n",
      "epoch 8200, error 2199829.75, alpha0.001\n",
      "epoch 8300, error 2145988.75, alpha0.001\n",
      "epoch 8400, error 2183003.25, alpha0.001\n",
      "epoch 8500, error 2172715.75, alpha0.001\n",
      "epoch 8600, error 2135782.75, alpha0.001\n",
      "epoch 8700, error 2146564.5, alpha0.001\n",
      "epoch 8800, error 2195161.25, alpha0.001\n",
      "epoch 8900, error 2150776.25, alpha0.001\n",
      "epoch 9000, error 2131900.0, alpha0.001\n",
      "epoch 9100, error 2163574.75, alpha0.001\n",
      "epoch 9200, error 2124504.0, alpha0.001\n",
      "epoch 9300, error 2095714.875, alpha0.001\n",
      "epoch 9400, error 2145355.75, alpha0.001\n",
      "epoch 9500, error 2157813.5, alpha0.001\n",
      "epoch 9600, error 2096995.75, alpha0.001\n",
      "epoch 9700, error 2125021.25, alpha0.001\n",
      "epoch 9800, error 2133307.0, alpha0.001\n",
      "epoch 9900, error 2088692.0, alpha0.001\n",
      "epoch 10000, error 2066977.25, alpha0.001\n",
      "epoch 10100, error 2141835.0, alpha0.001\n",
      "epoch 10200, error 2116808.25, alpha0.001\n",
      "epoch 10300, error 2063985.0, alpha0.001\n",
      "epoch 10400, error 2100298.0, alpha0.001\n",
      "epoch 10500, error 2090201.75, alpha0.001\n",
      "epoch 10600, error 2053969.75, alpha0.001\n",
      "epoch 10700, error 2064526.375, alpha0.001\n",
      "epoch 10800, error 2112174.5, alpha0.001\n",
      "epoch 10900, error 2068664.625, alpha0.001\n",
      "epoch 11000, error 2050143.5, alpha0.001\n",
      "epoch 11100, error 2081208.375, alpha0.001\n",
      "epoch 11200, error 2042894.875, alpha0.001\n",
      "epoch 11300, error 2014639.125, alpha0.001\n",
      "epoch 11400, error 2063310.625, alpha0.001\n",
      "epoch 11500, error 2075523.5, alpha0.001\n",
      "epoch 11600, error 2015886.5, alpha0.001\n",
      "epoch 11700, error 2043373.875, alpha0.001\n",
      "epoch 11800, error 2051487.0, alpha0.001\n",
      "epoch 11900, error 2007739.0, alpha0.001\n",
      "epoch 12000, error 1986421.25, alpha0.001\n",
      "epoch 12100, error 2059805.5, alpha0.001\n",
      "epoch 12200, error 2035285.5, alpha0.001\n",
      "epoch 12300, error 1983480.125, alpha0.001\n",
      "epoch 12400, error 2019090.125, alpha0.001\n",
      "epoch 12500, error 2009184.0, alpha0.001\n",
      "epoch 12600, error 1973653.375, alpha0.001\n",
      "epoch 12700, error 1983983.125, alpha0.001\n",
      "epoch 12800, error 2030680.625, alpha0.001\n",
      "epoch 12900, error 1988045.625, alpha0.001\n",
      "epoch 13000, error 1969878.5, alpha0.001\n",
      "epoch 13100, error 2000331.25, alpha0.001\n",
      "epoch 13200, error 1962775.25, alpha0.001\n",
      "epoch 13300, error 1935054.875, alpha0.001\n",
      "epoch 13400, error 1982758.125, alpha0.001\n",
      "epoch 13500, error 1994728.125, alpha0.001\n",
      "epoch 13600, error 1936276.125, alpha0.001\n",
      "epoch 13700, error 1963227.5, alpha0.001\n",
      "epoch 13800, error 1971171.375, alpha0.001\n",
      "epoch 13900, error 1928293.875, alpha0.001\n",
      "epoch 14000, error 1907376.875, alpha0.001\n",
      "epoch 14100, error 1979289.375, alpha0.001\n",
      "epoch 14200, error 1955280.5, alpha0.001\n",
      "epoch 14300, error 1904497.375, alpha0.001\n",
      "epoch 14400, error 1939407.0, alpha0.001\n",
      "epoch 14500, error 1929695.125, alpha0.001\n",
      "epoch 14600, error 1894869.25, alpha0.001\n",
      "epoch 14700, error 1904974.875, alpha0.001\n",
      "epoch 14800, error 1950723.875, alpha0.001\n",
      "epoch 14900, error 1908967.25, alpha0.001\n",
      "epoch 15000, error 1891157.75, alpha0.001\n",
      "epoch 15100, error 1921000.375, alpha0.001\n",
      "epoch 15200, error 1884205.625, alpha0.001\n",
      "epoch 15300, error 1857022.25, alpha0.001\n",
      "epoch 15400, error 1903757.875, alpha0.001\n",
      "epoch 15500, error 1915486.5, alpha0.001\n",
      "epoch 15600, error 1858221.875, alpha0.001\n",
      "epoch 15700, error 1884637.75, alpha0.001\n",
      "epoch 15800, error 1892413.125, alpha0.001\n",
      "epoch 15900, error 1850408.125, alpha0.001\n",
      "epoch 16000, error 1829893.25, alpha0.001\n",
      "epoch 16100, error 1900332.5, alpha0.001\n",
      "epoch 16200, error 1876835.25, alpha0.001\n",
      "epoch 16300, error 1827074.25, alpha0.001\n",
      "epoch 16400, error 1861282.5, alpha0.001\n",
      "epoch 16500, error 1851763.375, alpha0.001\n",
      "epoch 16600, error 1817642.5, alpha0.001\n",
      "epoch 16700, error 1827524.125, alpha0.001\n",
      "epoch 16800, error 1872323.875, alpha0.001\n",
      "epoch 16900, error 1831446.75, alpha0.001\n",
      "epoch 17000, error 1813994.25, alpha0.001\n",
      "epoch 17100, error 1843227.0, alpha0.001\n",
      "epoch 17200, error 1807193.125, alpha0.001\n",
      "epoch 17300, error 1780547.375, alpha0.001\n",
      "epoch 17400, error 1826314.25, alpha0.001\n",
      "epoch 17500, error 1837801.125, alpha0.001\n",
      "epoch 17600, error 1781724.375, alpha0.001\n",
      "epoch 17700, error 1807605.25, alpha0.001\n",
      "epoch 17800, error 1815212.375, alpha0.001\n",
      "epoch 17900, error 1774081.5, alpha0.001\n",
      "epoch 18000, error 1753969.625, alpha0.001\n",
      "epoch 18100, error 1822937.25, alpha0.001\n",
      "epoch 18200, error 1799953.625, alpha0.001\n",
      "epoch 18300, error 1751219.5, alpha0.001\n",
      "epoch 18400, error 1784729.875, alpha0.001\n",
      "epoch 18500, error 1775408.875, alpha0.001\n",
      "epoch 18600, error 1741997.625, alpha0.001\n",
      "epoch 18700, error 1751657.75, alpha0.001\n",
      "epoch 18800, error 1795511.0, alpha0.001\n",
      "epoch 18900, error 1755515.625, alpha0.001\n",
      "epoch 19000, error 1738423.875, alpha0.001\n",
      "epoch 19100, error 1767047.375, alpha0.001\n",
      "epoch 19200, error 1731777.25, alpha0.001\n",
      "epoch 19300, error 1705670.375, alpha0.001\n",
      "epoch 19400, error 1750469.5, alpha0.001\n",
      "epoch 19500, error 1761715.75, alpha0.001\n",
      "epoch 19600, error 1706828.5, alpha0.001\n",
      "epoch 19700, error 1732175.375, alpha0.001\n",
      "epoch 19800, error 1739616.5, alpha0.001\n",
      "epoch 19900, error 1699361.375, alpha0.001\n",
      "epoch 20000, error 1679653.625, alpha0.001\n",
      "epoch 20100, error 1747149.625, alpha0.001\n",
      "epoch 20200, error 1724680.125, alpha0.001\n",
      "epoch 20300, error 1676971.25, alpha0.001\n",
      "epoch 20400, error 1709781.75, alpha0.001\n",
      "epoch 20500, error 1700656.0, alpha0.001\n",
      "epoch 20600, error 1667952.625, alpha0.001\n",
      "epoch 20700, error 1677390.375, alpha0.001\n",
      "epoch 20800, error 1720295.625, alpha0.001\n",
      "epoch 20900, error 1681181.75, alpha0.001\n",
      "epoch 21000, error 1664449.0, alpha0.001\n",
      "epoch 21100, error 1692464.0, alpha0.001\n",
      "epoch 21200, error 1657957.375, alpha0.001\n",
      "epoch 21300, error 1632390.625, alpha0.001\n",
      "epoch 21400, error 1676223.75, alpha0.001\n",
      "epoch 21500, error 1687230.75, alpha0.001\n",
      "epoch 21600, error 1633533.75, alpha0.001\n",
      "epoch 21700, error 1658346.375, alpha0.001\n",
      "epoch 21800, error 1665619.75, alpha0.001\n",
      "epoch 21900, error 1626238.75, alpha0.001\n",
      "epoch 22000, error 1606935.0, alpha0.001\n",
      "epoch 22100, error 1672958.75, alpha0.001\n",
      "epoch 22200, error 1651003.625, alpha0.001\n",
      "epoch 22300, error 1604321.625, alpha0.001\n",
      "epoch 22400, error 1636433.5, alpha0.001\n",
      "epoch 22500, error 1627505.875, alpha0.001\n",
      "epoch 22600, error 1595511.25, alpha0.001\n",
      "epoch 22700, error 1604728.25, alpha0.001\n",
      "epoch 22800, error 1646686.875, alpha0.001\n",
      "epoch 22900, error 1608455.625, alpha0.001\n",
      "epoch 23000, error 1592083.75, alpha0.001\n",
      "epoch 23100, error 1619490.75, alpha0.001\n",
      "epoch 23200, error 1585748.375, alpha0.001\n",
      "epoch 23300, error 1560722.125, alpha0.001\n",
      "epoch 23400, error 1603588.375, alpha0.001\n",
      "epoch 23500, error 1614355.75, alpha0.001\n",
      "epoch 23600, error 1561849.375, alpha0.001\n",
      "epoch 23700, error 1586128.0, alpha0.001\n",
      "epoch 23800, error 1593234.375, alpha0.001\n",
      "epoch 23900, error 1554728.375, alpha0.001\n",
      "epoch 24000, error 1535828.5, alpha0.001\n",
      "epoch 24100, error 1600380.0, alpha0.001\n",
      "epoch 24200, error 1578938.5, alpha0.001\n",
      "epoch 24300, error 1533282.5, alpha0.001\n",
      "epoch 24400, error 1564694.25, alpha0.001\n",
      "epoch 24500, error 1555962.25, alpha0.001\n",
      "epoch 24600, error 1524675.375, alpha0.001\n",
      "epoch 24700, error 1533668.75, alpha0.001\n",
      "epoch 24800, error 1574678.0, alpha0.001\n",
      "epoch 24900, error 1537327.625, alpha0.001\n",
      "epoch 25000, error 1521314.0, alpha0.001\n",
      "epoch 25100, error 1548110.125, alpha0.001\n",
      "epoch 25200, error 1515130.25, alpha0.001\n",
      "epoch 25300, error 1490642.0, alpha0.001\n",
      "epoch 25400, error 1532539.0, alpha0.001\n",
      "epoch 25500, error 1543064.125, alpha0.001\n"
     ]
    },
    {
     "ename": "KeyboardInterrupt",
     "evalue": "",
     "output_type": "error",
     "traceback": [
      "\u001b[1;31m---------------------------------------------------------------------------\u001b[0m",
      "\u001b[1;31mKeyboardInterrupt\u001b[0m                         Traceback (most recent call last)",
      "\u001b[1;32m<ipython-input-117-39d691dbaabf>\u001b[0m in \u001b[0;36m<module>\u001b[1;34m()\u001b[0m\n\u001b[0;32m     35\u001b[0m         \u001b[0maccum_loss\u001b[0m\u001b[1;33m.\u001b[0m\u001b[0munchain_backward\u001b[0m\u001b[1;33m(\u001b[0m\u001b[1;33m)\u001b[0m\u001b[1;33m\u001b[0m\u001b[0m\n\u001b[0;32m     36\u001b[0m         \u001b[0maccum_loss\u001b[0m \u001b[1;33m=\u001b[0m \u001b[1;36m0\u001b[0m\u001b[1;33m\u001b[0m\u001b[0m\n\u001b[1;32m---> 37\u001b[1;33m         \u001b[0moptimizer\u001b[0m\u001b[1;33m.\u001b[0m\u001b[0mupdate\u001b[0m\u001b[1;33m(\u001b[0m\u001b[1;33m)\u001b[0m\u001b[1;33m\u001b[0m\u001b[0m\n\u001b[0m\u001b[0;32m     38\u001b[0m \u001b[1;33m\u001b[0m\u001b[0m\n",
      "\u001b[1;32m/usr/local/lib/python3.4/dist-packages/chainer/optimizer.py\u001b[0m in \u001b[0;36mupdate\u001b[1;34m(self, lossfun, *args, **kwds)\u001b[0m\n\u001b[0;32m    377\u001b[0m             \u001b[0mloss\u001b[0m\u001b[1;33m.\u001b[0m\u001b[0mbackward\u001b[0m\u001b[1;33m(\u001b[0m\u001b[1;33m)\u001b[0m\u001b[1;33m\u001b[0m\u001b[0m\n\u001b[0;32m    378\u001b[0m             \u001b[1;32mdel\u001b[0m \u001b[0mloss\u001b[0m\u001b[1;33m\u001b[0m\u001b[0m\n\u001b[1;32m--> 379\u001b[1;33m         \u001b[0mself\u001b[0m\u001b[1;33m.\u001b[0m\u001b[0mcall_hooks\u001b[0m\u001b[1;33m(\u001b[0m\u001b[1;33m)\u001b[0m\u001b[1;33m\u001b[0m\u001b[0m\n\u001b[0m\u001b[0;32m    380\u001b[0m         \u001b[0mself\u001b[0m\u001b[1;33m.\u001b[0m\u001b[0mprepare\u001b[0m\u001b[1;33m(\u001b[0m\u001b[1;33m)\u001b[0m\u001b[1;33m\u001b[0m\u001b[0m\n\u001b[0;32m    381\u001b[0m \u001b[1;33m\u001b[0m\u001b[0m\n",
      "\u001b[1;32m/usr/local/lib/python3.4/dist-packages/chainer/optimizer.py\u001b[0m in \u001b[0;36mcall_hooks\u001b[1;34m(self)\u001b[0m\n\u001b[0;32m    230\u001b[0m         \u001b[1;34m\"\"\"Invokes hook functions in registration order.\"\"\"\u001b[0m\u001b[1;33m\u001b[0m\u001b[0m\n\u001b[0;32m    231\u001b[0m         \u001b[1;32mfor\u001b[0m \u001b[0mhook\u001b[0m \u001b[1;32min\u001b[0m \u001b[0msix\u001b[0m\u001b[1;33m.\u001b[0m\u001b[0mitervalues\u001b[0m\u001b[1;33m(\u001b[0m\u001b[0mself\u001b[0m\u001b[1;33m.\u001b[0m\u001b[0m_hooks\u001b[0m\u001b[1;33m)\u001b[0m\u001b[1;33m:\u001b[0m\u001b[1;33m\u001b[0m\u001b[0m\n\u001b[1;32m--> 232\u001b[1;33m             \u001b[0mhook\u001b[0m\u001b[1;33m(\u001b[0m\u001b[0mself\u001b[0m\u001b[1;33m)\u001b[0m\u001b[1;33m\u001b[0m\u001b[0m\n\u001b[0m\u001b[0;32m    233\u001b[0m \u001b[1;33m\u001b[0m\u001b[0m\n\u001b[0;32m    234\u001b[0m     \u001b[1;32mdef\u001b[0m \u001b[0mserialize\u001b[0m\u001b[1;33m(\u001b[0m\u001b[0mself\u001b[0m\u001b[1;33m,\u001b[0m \u001b[0mserializer\u001b[0m\u001b[1;33m)\u001b[0m\u001b[1;33m:\u001b[0m\u001b[1;33m\u001b[0m\u001b[0m\n",
      "\u001b[1;32m/usr/local/lib/python3.4/dist-packages/chainer/optimizer.py\u001b[0m in \u001b[0;36m__call__\u001b[1;34m(self, opt)\u001b[0m\n\u001b[0;32m    512\u001b[0m \u001b[1;33m\u001b[0m\u001b[0m\n\u001b[0;32m    513\u001b[0m     \u001b[1;32mdef\u001b[0m \u001b[0m__call__\u001b[0m\u001b[1;33m(\u001b[0m\u001b[0mself\u001b[0m\u001b[1;33m,\u001b[0m \u001b[0mopt\u001b[0m\u001b[1;33m)\u001b[0m\u001b[1;33m:\u001b[0m\u001b[1;33m\u001b[0m\u001b[0m\n\u001b[1;32m--> 514\u001b[1;33m         \u001b[0mnorm\u001b[0m \u001b[1;33m=\u001b[0m \u001b[0mnumpy\u001b[0m\u001b[1;33m.\u001b[0m\u001b[0msqrt\u001b[0m\u001b[1;33m(\u001b[0m\u001b[0m_sum_sqnorm\u001b[0m\u001b[1;33m(\u001b[0m\u001b[1;33m[\u001b[0m\u001b[0mp\u001b[0m\u001b[1;33m.\u001b[0m\u001b[0mgrad\u001b[0m \u001b[1;32mfor\u001b[0m \u001b[0mp\u001b[0m \u001b[1;32min\u001b[0m \u001b[0mopt\u001b[0m\u001b[1;33m.\u001b[0m\u001b[0mtarget\u001b[0m\u001b[1;33m.\u001b[0m\u001b[0mparams\u001b[0m\u001b[1;33m(\u001b[0m\u001b[1;33m)\u001b[0m\u001b[1;33m]\u001b[0m\u001b[1;33m)\u001b[0m\u001b[1;33m)\u001b[0m\u001b[1;33m\u001b[0m\u001b[0m\n\u001b[0m\u001b[0;32m    515\u001b[0m         \u001b[0mrate\u001b[0m \u001b[1;33m=\u001b[0m \u001b[0mself\u001b[0m\u001b[1;33m.\u001b[0m\u001b[0mthreshold\u001b[0m \u001b[1;33m/\u001b[0m \u001b[0mnorm\u001b[0m\u001b[1;33m\u001b[0m\u001b[0m\n\u001b[0;32m    516\u001b[0m         \u001b[1;32mif\u001b[0m \u001b[0mrate\u001b[0m \u001b[1;33m<\u001b[0m \u001b[1;36m1\u001b[0m\u001b[1;33m:\u001b[0m\u001b[1;33m\u001b[0m\u001b[0m\n",
      "\u001b[1;32m/usr/local/lib/python3.4/dist-packages/chainer/optimizer.py\u001b[0m in \u001b[0;36m_sum_sqnorm\u001b[1;34m(arr)\u001b[0m\n\u001b[0;32m     15\u001b[0m             \u001b[0ms\u001b[0m \u001b[1;33m=\u001b[0m \u001b[0mx\u001b[0m\u001b[1;33m.\u001b[0m\u001b[0mdot\u001b[0m\u001b[1;33m(\u001b[0m\u001b[0mx\u001b[0m\u001b[1;33m)\u001b[0m\u001b[1;33m\u001b[0m\u001b[0m\n\u001b[0;32m     16\u001b[0m             \u001b[0msq_sum\u001b[0m\u001b[1;33m[\u001b[0m\u001b[0mint\u001b[0m\u001b[1;33m(\u001b[0m\u001b[0mdev\u001b[0m\u001b[1;33m)\u001b[0m\u001b[1;33m]\u001b[0m \u001b[1;33m+=\u001b[0m \u001b[0ms\u001b[0m\u001b[1;33m\u001b[0m\u001b[0m\n\u001b[1;32m---> 17\u001b[1;33m     \u001b[1;32mreturn\u001b[0m \u001b[0msum\u001b[0m\u001b[1;33m(\u001b[0m\u001b[1;33m[\u001b[0m\u001b[0mfloat\u001b[0m\u001b[1;33m(\u001b[0m\u001b[0mi\u001b[0m\u001b[1;33m)\u001b[0m \u001b[1;32mfor\u001b[0m \u001b[0mi\u001b[0m \u001b[1;32min\u001b[0m \u001b[0msix\u001b[0m\u001b[1;33m.\u001b[0m\u001b[0mitervalues\u001b[0m\u001b[1;33m(\u001b[0m\u001b[0msq_sum\u001b[0m\u001b[1;33m)\u001b[0m\u001b[1;33m]\u001b[0m\u001b[1;33m)\u001b[0m\u001b[1;33m\u001b[0m\u001b[0m\n\u001b[0m\u001b[0;32m     18\u001b[0m \u001b[1;33m\u001b[0m\u001b[0m\n\u001b[0;32m     19\u001b[0m \u001b[1;33m\u001b[0m\u001b[0m\n",
      "\u001b[1;32m/usr/local/lib/python3.4/dist-packages/chainer/optimizer.py\u001b[0m in \u001b[0;36m<listcomp>\u001b[1;34m(.0)\u001b[0m\n\u001b[0;32m     15\u001b[0m             \u001b[0ms\u001b[0m \u001b[1;33m=\u001b[0m \u001b[0mx\u001b[0m\u001b[1;33m.\u001b[0m\u001b[0mdot\u001b[0m\u001b[1;33m(\u001b[0m\u001b[0mx\u001b[0m\u001b[1;33m)\u001b[0m\u001b[1;33m\u001b[0m\u001b[0m\n\u001b[0;32m     16\u001b[0m             \u001b[0msq_sum\u001b[0m\u001b[1;33m[\u001b[0m\u001b[0mint\u001b[0m\u001b[1;33m(\u001b[0m\u001b[0mdev\u001b[0m\u001b[1;33m)\u001b[0m\u001b[1;33m]\u001b[0m \u001b[1;33m+=\u001b[0m \u001b[0ms\u001b[0m\u001b[1;33m\u001b[0m\u001b[0m\n\u001b[1;32m---> 17\u001b[1;33m     \u001b[1;32mreturn\u001b[0m \u001b[0msum\u001b[0m\u001b[1;33m(\u001b[0m\u001b[1;33m[\u001b[0m\u001b[0mfloat\u001b[0m\u001b[1;33m(\u001b[0m\u001b[0mi\u001b[0m\u001b[1;33m)\u001b[0m \u001b[1;32mfor\u001b[0m \u001b[0mi\u001b[0m \u001b[1;32min\u001b[0m \u001b[0msix\u001b[0m\u001b[1;33m.\u001b[0m\u001b[0mitervalues\u001b[0m\u001b[1;33m(\u001b[0m\u001b[0msq_sum\u001b[0m\u001b[1;33m)\u001b[0m\u001b[1;33m]\u001b[0m\u001b[1;33m)\u001b[0m\u001b[1;33m\u001b[0m\u001b[0m\n\u001b[0m\u001b[0;32m     18\u001b[0m \u001b[1;33m\u001b[0m\u001b[0m\n\u001b[0;32m     19\u001b[0m \u001b[1;33m\u001b[0m\u001b[0m\n",
      "\u001b[1;31mKeyboardInterrupt\u001b[0m: "
     ]
    }
   ],
   "source": [
    "model = Net(4, n_units)#入力の次元数, 中間層の次元数\n",
    "if use_gpu is True:\n",
    "    model.to_gpu()\n",
    "#optimizer = optimizers.Adam()\n",
    "optimizer = optimizers.SGD(lr=1e-3)\n",
    "optimizer.setup(model)\n",
    "optimizer.add_hook(chainer.optimizer.GradientClipping(grad_clip))\n",
    "loss = []\n",
    "length = len(train_data_x)\n",
    "jump = length // batchsize\n",
    "batch_idxs = list(range(batchsize))\n",
    "accum_loss = 0\n",
    "epoch = 0\n",
    "loss_data = 0\n",
    "for i in range(jump * n_epoch):\n",
    "    x = chainer.Variable(xp.asarray([train_data_x[(jump * j + i) % length] for j in batch_idxs]))\n",
    "    y = chainer.Variable(xp.asarray([train_data_y[(jump * j + i) % length] for j in batch_idxs]))\n",
    "    loss_i = model(x,y)\n",
    "    accum_loss += loss_i\n",
    "    loss_data += accum_loss.data\n",
    "        \n",
    "    if (i+1) % jump == 0:\n",
    "        epoch += 1\n",
    "        if epoch % 100 == 0:\n",
    "            print('epoch {}, error {}, alpha{}'.format(epoch, loss_data / length, optimizer.lr))\n",
    "\n",
    "        loss.append(loss_data / length)\n",
    "        loss_data = 0\n",
    "        #model.reset_state()\n",
    "        \n",
    "    \n",
    "    if (i+1) % bprop_len == 0:\n",
    "        model.zerograds()\n",
    "        accum_loss.backward()\n",
    "        accum_loss.unchain_backward()\n",
    "        accum_loss = 0\n",
    "        optimizer.update()\n",
    "    "
   ]
  },
  {
   "cell_type": "code",
   "execution_count": 118,
   "metadata": {
    "collapsed": false
   },
   "outputs": [
    {
     "data": {
      "text/plain": [
       "[<matplotlib.lines.Line2D at 0x7f8cd393e828>]"
      ]
     },
     "execution_count": 118,
     "metadata": {},
     "output_type": "execute_result"
    },
    {
     "data": {
      "image/png": "[encoded data removed]",
      "text/plain": [
       "<matplotlib.figure.Figure at 0x7f8cd2e1a128>"
      ]
     },
     "metadata": {},
     "output_type": "display_data"
    }
   ],
   "source": [
    "plt.plot(loss[0:12000])"
   ]
  },
  {
   "cell_type": "code",
   "execution_count": 119,
   "metadata": {
    "collapsed": false
   },
   "outputs": [
    {
     "data": {
      "image/png": "[encoded data removed]",
      "text/plain": [
       "<matplotlib.figure.Figure at 0x7f8cd3a17160>"
      ]
     },
     "metadata": {},
     "output_type": "display_data"
    }
   ],
   "source": [
    "output = evaluate(model)"
   ]
  },
  {
   "cell_type": "code",
   "execution_count": 120,
   "metadata": {
    "collapsed": false
   },
   "outputs": [
    {
     "data": {
      "text/plain": [
       "[<matplotlib.lines.Line2D at 0x7f8cd4566b38>]"
      ]
     },
     "execution_count": 120,
     "metadata": {},
     "output_type": "execute_result"
    },
    {
     "data": {
      "image/png": "[encoded data removed]",
      "text/plain": [
       "<matplotlib.figure.Figure at 0x7f8cd3f220b8>"
      ]
     },
     "metadata": {},
     "output_type": "display_data"
    }
   ],
   "source": [
    "plt.plot(output[0:30000])"
   ]
  },
  {
   "cell_type": "code",
   "execution_count": null,
   "metadata": {
    "collapsed": true
   },
   "outputs": [],
   "source": []
  }
 ],
 "metadata": {
  "kernelspec": {
   "display_name": "Python 3",
   "language": "python",
   "name": "python3"
  },
  "language_info": {
   "codemirror_mode": {
    "name": "ipython",
    "version": 3
   },
   "file_extension": ".py",
   "mimetype": "text/x-python",
   "name": "python",
   "nbconvert_exporter": "python",
   "pygments_lexer": "ipython3",
   "version": "3.4.3"
  }
 },
 "nbformat": 4,
 "nbformat_minor": 0
}
