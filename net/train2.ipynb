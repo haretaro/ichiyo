{
 "cells": [
  {
   "cell_type": "code",
   "execution_count": 87,
   "metadata": {
    "collapsed": false
   },
   "outputs": [],
   "source": [
    "#高値,安値,始値,終値 から 次の時刻の高値を予測する\n",
    "%matplotlib inline\n",
    "import chainer\n",
    "from chainer import optimizers, cuda\n",
    "import numpy as np\n",
    "import csv\n",
    "import math\n",
    "import matplotlib.pyplot as plt\n",
    "from net import Net,MoreLayersNet"
   ]
  },
  {
   "cell_type": "code",
   "execution_count": 88,
   "metadata": {
    "collapsed": true
   },
   "outputs": [],
   "source": [
    "n_epoch = 1000000 #エポック\n",
    "batchsize = 178 #バッチサイズ\n",
    "bprop_len = 20 #何回でバックプロパゲーションを打ち切るか(truncate)\n",
    "n_units = 20 #中間層のユニット数\n",
    "grad_clip = 5 #誤差関数の絶対値をこの値に制限する\n",
    "use_gpu = False #GPUを使うかどうか"
   ]
  },
  {
   "cell_type": "code",
   "execution_count": 89,
   "metadata": {
    "collapsed": false
   },
   "outputs": [],
   "source": [
    "xp = cuda.cupy if use_gpu is True else np"
   ]
  },
  {
   "cell_type": "code",
   "execution_count": 90,
   "metadata": {
    "collapsed": false
   },
   "outputs": [
    {
     "data": {
      "text/plain": [
       "[<matplotlib.lines.Line2D at 0x2d92bcb70>]"
      ]
     },
     "execution_count": 90,
     "metadata": {},
     "output_type": "execute_result"
    },
    {
     "data": {
      "image/png": "[encoded data removed]",
      "text/plain": [
       "<matplotlib.figure.Figure at 0x2d9207d68>"
      ]
     },
     "metadata": {},
     "output_type": "display_data"
    }
   ],
   "source": [
    "train_data_x = []\n",
    "train_data_y = []\n",
    "f = open('30minutes.csv','r')\n",
    "data = csv.reader(f, delimiter=',')\n",
    "for row in data:\n",
    "    train_data_x.append([row[i] for i in range(1,5)])\n",
    "    train_data_y.append([row[1]])\n",
    "train_data_x = np.asarray(train_data_x, dtype=np.float32)\n",
    "train_data_y = np.asarray(train_data_y, dtype=np.float32)\n",
    "train_data_x = train_data_x[:-1]\n",
    "train_data_y = train_data_y[1:]\n",
    "#plt.plot(train_data_x[:200])\n",
    "plt.plot(train_data_y[:200])"
   ]
  },
  {
   "cell_type": "code",
   "execution_count": null,
   "metadata": {
    "collapsed": true
   },
   "outputs": [],
   "source": [
    "#ネットワークを試す関数\n",
    "def evaluate(model):\n",
    "    evaluator = model.copy()\n",
    "    evaluator.reset_state()\n",
    "    output = []\n",
    "    for t in train_data_x:\n",
    "        t = chainer.Variable(xp.array([t],dtype=np.float32))\n",
    "        t = evaluator.predict(t)\n",
    "        output.append(t.data[0])\n",
    "    return output"
   ]
  },
  {
   "cell_type": "code",
   "execution_count": null,
   "metadata": {
    "collapsed": false
   },
   "outputs": [
    {
     "name": "stdout",
     "output_type": "stream",
     "text": [
      "epoch 100, error 16323030.016030626, alpha0.045250700233367754\n",
      "epoch 200, error 15347759.965546118, alpha0.06068194622309896\n",
      "epoch 300, error 14305433.266180165, alpha0.07057585673555836\n",
      "epoch 400, error 13542145.01638952, alpha0.07754131952635941\n",
      "epoch 500, error 12460329.878693623, alpha0.08265764298735262\n"
     ]
    }
   ],
   "source": [
    "model = MoreLayersNet(4, n_units)#入力の次元数, 中間層の次元数\n",
    "if use_gpu is True:\n",
    "    model.to_gpu()\n",
    "optimizer = optimizers.Adam(alpha=0.1)\n",
    "optimizer.setup(model)\n",
    "optimizer.add_hook(chainer.optimizer.GradientClipping(grad_clip))\n",
    "loss = []\n",
    "length = len(train_data_x)\n",
    "jump = length // batchsize\n",
    "batch_idxs = list(range(batchsize))\n",
    "accum_loss = 0\n",
    "epoch = 0\n",
    "loss_data = 0\n",
    "for i in range(jump * n_epoch):\n",
    "    x = chainer.Variable(xp.asarray([train_data_x[(jump * j + i) % length] for j in batch_idxs]))\n",
    "    y = chainer.Variable(xp.asarray([train_data_y[(jump * j + i) % length] for j in batch_idxs]))\n",
    "    loss_i = model(x,y)\n",
    "    accum_loss += loss_i\n",
    "    loss_data += accum_loss.data\n",
    "        \n",
    "    if (i+1) % jump == 0:\n",
    "        epoch += 1\n",
    "        if epoch % 100 == 0:\n",
    "            print('epoch {}, error {}, alpha{}'.format(epoch, loss_data / length, optimizer.lr))\n",
    "\n",
    "        loss.append(loss_data / length)\n",
    "        loss_data = 0\n",
    "        #model.reset_state()\n",
    "        \n",
    "    \n",
    "    if (i+1) % bprop_len == 0:\n",
    "        model.zerograds()\n",
    "        accum_loss.backward()\n",
    "        accum_loss.unchain_backward()\n",
    "        accum_loss = 0\n",
    "        optimizer.update()\n",
    "    "
   ]
  },
  {
   "cell_type": "code",
   "execution_count": null,
   "metadata": {
    "collapsed": false
   },
   "outputs": [],
   "source": [
    "plt.plot(loss[0:])"
   ]
  },
  {
   "cell_type": "code",
   "execution_count": null,
   "metadata": {
    "collapsed": false
   },
   "outputs": [],
   "source": [
    "output = evaluate(model)"
   ]
  },
  {
   "cell_type": "code",
   "execution_count": null,
   "metadata": {
    "collapsed": false
   },
   "outputs": [],
   "source": [
    "plt.plot(output[0:2000])"
   ]
  },
  {
   "cell_type": "code",
   "execution_count": null,
   "metadata": {
    "collapsed": true
   },
   "outputs": [],
   "source": []
  }
 ],
 "metadata": {
  "kernelspec": {
   "display_name": "Python 3",
   "language": "python",
   "name": "python3"
  },
  "language_info": {
   "codemirror_mode": {
    "name": "ipython",
    "version": 3
   },
   "file_extension": ".py",
   "mimetype": "text/x-python",
   "name": "python",
   "nbconvert_exporter": "python",
   "pygments_lexer": "ipython3",
   "version": "3.5.1"
  }
 },
 "nbformat": 4,
 "nbformat_minor": 0
}
